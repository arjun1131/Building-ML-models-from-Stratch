{
  "nbformat": 4,
  "nbformat_minor": 0,
  "metadata": {
    "colab": {
      "provenance": [],
      "collapsed_sections": [],
      "mount_file_id": "1sy7S-hbMO68TbB6Q-S5WoyLDFWx9h0oG",
      "authorship_tag": "ABX9TyPL+n/QueGVH7mkj6jCG472",
      "include_colab_link": true
    },
    "kernelspec": {
      "name": "python3",
      "display_name": "Python 3"
    },
    "language_info": {
      "name": "python"
    }
  },
  "cells": [
    {
      "cell_type": "markdown",
      "metadata": {
        "id": "view-in-github",
        "colab_type": "text"
      },
      "source": [
        "<a href=\"https://colab.research.google.com/github/arjun1131/Building-ML-models-from-Stratch/blob/main/Building_Linear_Regression_from_Stratch_using_Python.ipynb\" target=\"_parent\"><img src=\"https://colab.research.google.com/assets/colab-badge.svg\" alt=\"Open In Colab\"/></a>"
      ]
    },
    {
      "cell_type": "markdown",
      "source": [
        "#Linear Regression\n"
      ],
      "metadata": {
        "id": "eCcCa2mQj0jT"
      }
    },
    {
      "cell_type": "code",
      "execution_count": null,
      "metadata": {
        "id": "CKUgGy4djtk0"
      },
      "outputs": [],
      "source": [
        "#Importing Libraries\n",
        "import numpy as np"
      ]
    },
    {
      "cell_type": "code",
      "source": [
        "class Linear_Reg:\n",
        "  #Initialization Hyper parameters of model\n",
        "  def __init__(self, learning_rate, number_of_iterations):\n",
        "\n",
        "    self.learning_rate = learning_rate\n",
        "    self.iterations = number_of_iterations\n",
        "\n",
        "  #Function used to fit datat within model\n",
        "  def fit(self,x,y):\n",
        "\n",
        "    #Getting number of training samples & number of features\n",
        "    self.m , self.n = x.shape\n",
        "    \n",
        "\n",
        "    #Initialize model parameters\n",
        "    self.weight = np.zeros(self.n)\n",
        "    self.bias = 0\n",
        "    self.x = x\n",
        "    self.y = y\n",
        "\n",
        "    #Implementing Gradient Descent algorithm for Optimization\n",
        "    for i in range(self.iterations):\n",
        "      self.update_parameters()\n",
        "\n",
        "  #Function used to update parameters\n",
        "  def update_parameters(self,):\n",
        "\n",
        "    y_pred = self.predict(self.x)\n",
        "\n",
        "    #Calculating Gradient Descent\n",
        "    dw = -(2 * (self.x.T).dot(self.y - y_pred))/ self.m\n",
        "\n",
        "    db = -(2 * np.sum(self.y - y_pred)) / self.m\n",
        "\n",
        "    #Updating model parameters\n",
        "\n",
        "    self.weight = self.weight - (self.learning_rate * dw)\n",
        "\n",
        "    self.bias = self.bias - (self.learning_rate * db)\n",
        "\n",
        "  #Predict function for \n",
        "  def predict(self,x): \n",
        "    return (x.dot(self.weight) + self.bias)\n"
      ],
      "metadata": {
        "id": "AikF7BLwkIoN"
      },
      "execution_count": null,
      "outputs": []
    },
    {
      "cell_type": "markdown",
      "source": [
        "## Workflow of Linear Regression model\n",
        "\n",
        "1.Set Learning Rate & Number of iterations<br>\n",
        "2.Build linear regression equation **(y = wx + b)** <br>\n",
        "3.Find the predicted value for given x value for corresponding weight & bias<br>\n",
        "4.Check loss function for parameters (Difference btw actual value & Predicted value)<br>\n",
        "5.Update parameters by using Gradient descent.<br>\n",
        "6.Repeat steps 3,4,5 until we get minimum loss function.<br>\n",
        "\n",
        "\n"
      ],
      "metadata": {
        "id": "luj-aveqAsvG"
      }
    },
    {
      "cell_type": "code",
      "source": [
        "#Importing required libraries\n",
        "import pandas as pd\n",
        "from sklearn.model_selection import train_test_split\n",
        "import matplotlib.pyplot as plt"
      ],
      "metadata": {
        "id": "i9-OauEABvl_"
      },
      "execution_count": null,
      "outputs": []
    },
    {
      "cell_type": "markdown",
      "source": [
        "Data Processing"
      ],
      "metadata": {
        "id": "RRc6Rwp6C31E"
      }
    },
    {
      "cell_type": "code",
      "source": [
        "#Loading CSV data into Pandas Dataframe\n",
        "data = pd.read_csv('/content/drive/MyDrive/ML Datasets/salary_data.csv')"
      ],
      "metadata": {
        "id": "Vmx93FJjC2Dx"
      },
      "execution_count": null,
      "outputs": []
    },
    {
      "cell_type": "code",
      "source": [
        "#Checking data\n",
        "data.head()"
      ],
      "metadata": {
        "colab": {
          "base_uri": "https://localhost:8080/",
          "height": 206
        },
        "id": "vPsaJWWRDJyl",
        "outputId": "3d0994be-e305-459e-8782-64c01f4c9551"
      },
      "execution_count": null,
      "outputs": [
        {
          "output_type": "execute_result",
          "data": {
            "text/plain": [
              "   YearsExperience  Salary\n",
              "0              1.1   39343\n",
              "1              1.3   46205\n",
              "2              1.5   37731\n",
              "3              2.0   43525\n",
              "4              2.2   39891"
            ],
            "text/html": [
              "\n",
              "  <div id=\"df-5c0adbef-280b-4e7f-9744-ab6e653fd662\">\n",
              "    <div class=\"colab-df-container\">\n",
              "      <div>\n",
              "<style scoped>\n",
              "    .dataframe tbody tr th:only-of-type {\n",
              "        vertical-align: middle;\n",
              "    }\n",
              "\n",
              "    .dataframe tbody tr th {\n",
              "        vertical-align: top;\n",
              "    }\n",
              "\n",
              "    .dataframe thead th {\n",
              "        text-align: right;\n",
              "    }\n",
              "</style>\n",
              "<table border=\"1\" class=\"dataframe\">\n",
              "  <thead>\n",
              "    <tr style=\"text-align: right;\">\n",
              "      <th></th>\n",
              "      <th>YearsExperience</th>\n",
              "      <th>Salary</th>\n",
              "    </tr>\n",
              "  </thead>\n",
              "  <tbody>\n",
              "    <tr>\n",
              "      <th>0</th>\n",
              "      <td>1.1</td>\n",
              "      <td>39343</td>\n",
              "    </tr>\n",
              "    <tr>\n",
              "      <th>1</th>\n",
              "      <td>1.3</td>\n",
              "      <td>46205</td>\n",
              "    </tr>\n",
              "    <tr>\n",
              "      <th>2</th>\n",
              "      <td>1.5</td>\n",
              "      <td>37731</td>\n",
              "    </tr>\n",
              "    <tr>\n",
              "      <th>3</th>\n",
              "      <td>2.0</td>\n",
              "      <td>43525</td>\n",
              "    </tr>\n",
              "    <tr>\n",
              "      <th>4</th>\n",
              "      <td>2.2</td>\n",
              "      <td>39891</td>\n",
              "    </tr>\n",
              "  </tbody>\n",
              "</table>\n",
              "</div>\n",
              "      <button class=\"colab-df-convert\" onclick=\"convertToInteractive('df-5c0adbef-280b-4e7f-9744-ab6e653fd662')\"\n",
              "              title=\"Convert this dataframe to an interactive table.\"\n",
              "              style=\"display:none;\">\n",
              "        \n",
              "  <svg xmlns=\"http://www.w3.org/2000/svg\" height=\"24px\"viewBox=\"0 0 24 24\"\n",
              "       width=\"24px\">\n",
              "    <path d=\"M0 0h24v24H0V0z\" fill=\"none\"/>\n",
              "    <path d=\"M18.56 5.44l.94 2.06.94-2.06 2.06-.94-2.06-.94-.94-2.06-.94 2.06-2.06.94zm-11 1L8.5 8.5l.94-2.06 2.06-.94-2.06-.94L8.5 2.5l-.94 2.06-2.06.94zm10 10l.94 2.06.94-2.06 2.06-.94-2.06-.94-.94-2.06-.94 2.06-2.06.94z\"/><path d=\"M17.41 7.96l-1.37-1.37c-.4-.4-.92-.59-1.43-.59-.52 0-1.04.2-1.43.59L10.3 9.45l-7.72 7.72c-.78.78-.78 2.05 0 2.83L4 21.41c.39.39.9.59 1.41.59.51 0 1.02-.2 1.41-.59l7.78-7.78 2.81-2.81c.8-.78.8-2.07 0-2.86zM5.41 20L4 18.59l7.72-7.72 1.47 1.35L5.41 20z\"/>\n",
              "  </svg>\n",
              "      </button>\n",
              "      \n",
              "  <style>\n",
              "    .colab-df-container {\n",
              "      display:flex;\n",
              "      flex-wrap:wrap;\n",
              "      gap: 12px;\n",
              "    }\n",
              "\n",
              "    .colab-df-convert {\n",
              "      background-color: #E8F0FE;\n",
              "      border: none;\n",
              "      border-radius: 50%;\n",
              "      cursor: pointer;\n",
              "      display: none;\n",
              "      fill: #1967D2;\n",
              "      height: 32px;\n",
              "      padding: 0 0 0 0;\n",
              "      width: 32px;\n",
              "    }\n",
              "\n",
              "    .colab-df-convert:hover {\n",
              "      background-color: #E2EBFA;\n",
              "      box-shadow: 0px 1px 2px rgba(60, 64, 67, 0.3), 0px 1px 3px 1px rgba(60, 64, 67, 0.15);\n",
              "      fill: #174EA6;\n",
              "    }\n",
              "\n",
              "    [theme=dark] .colab-df-convert {\n",
              "      background-color: #3B4455;\n",
              "      fill: #D2E3FC;\n",
              "    }\n",
              "\n",
              "    [theme=dark] .colab-df-convert:hover {\n",
              "      background-color: #434B5C;\n",
              "      box-shadow: 0px 1px 3px 1px rgba(0, 0, 0, 0.15);\n",
              "      filter: drop-shadow(0px 1px 2px rgba(0, 0, 0, 0.3));\n",
              "      fill: #FFFFFF;\n",
              "    }\n",
              "  </style>\n",
              "\n",
              "      <script>\n",
              "        const buttonEl =\n",
              "          document.querySelector('#df-5c0adbef-280b-4e7f-9744-ab6e653fd662 button.colab-df-convert');\n",
              "        buttonEl.style.display =\n",
              "          google.colab.kernel.accessAllowed ? 'block' : 'none';\n",
              "\n",
              "        async function convertToInteractive(key) {\n",
              "          const element = document.querySelector('#df-5c0adbef-280b-4e7f-9744-ab6e653fd662');\n",
              "          const dataTable =\n",
              "            await google.colab.kernel.invokeFunction('convertToInteractive',\n",
              "                                                     [key], {});\n",
              "          if (!dataTable) return;\n",
              "\n",
              "          const docLinkHtml = 'Like what you see? Visit the ' +\n",
              "            '<a target=\"_blank\" href=https://colab.research.google.com/notebooks/data_table.ipynb>data table notebook</a>'\n",
              "            + ' to learn more about interactive tables.';\n",
              "          element.innerHTML = '';\n",
              "          dataTable['output_type'] = 'display_data';\n",
              "          await google.colab.output.renderOutput(dataTable, element);\n",
              "          const docLink = document.createElement('div');\n",
              "          docLink.innerHTML = docLinkHtml;\n",
              "          element.appendChild(docLink);\n",
              "        }\n",
              "      </script>\n",
              "    </div>\n",
              "  </div>\n",
              "  "
            ]
          },
          "metadata": {},
          "execution_count": 33
        }
      ]
    },
    {
      "cell_type": "code",
      "source": [
        "data.info()"
      ],
      "metadata": {
        "colab": {
          "base_uri": "https://localhost:8080/"
        },
        "id": "uY5EPKzWDM26",
        "outputId": "1ea9d466-0cde-491a-d6d3-545b6046b0a9"
      },
      "execution_count": null,
      "outputs": [
        {
          "output_type": "stream",
          "name": "stdout",
          "text": [
            "<class 'pandas.core.frame.DataFrame'>\n",
            "RangeIndex: 30 entries, 0 to 29\n",
            "Data columns (total 2 columns):\n",
            " #   Column           Non-Null Count  Dtype  \n",
            "---  ------           --------------  -----  \n",
            " 0   YearsExperience  30 non-null     float64\n",
            " 1   Salary           30 non-null     int64  \n",
            "dtypes: float64(1), int64(1)\n",
            "memory usage: 608.0 bytes\n"
          ]
        }
      ]
    },
    {
      "cell_type": "markdown",
      "source": [
        "Splitting feature & target"
      ],
      "metadata": {
        "id": "vxWQCdK3DSZd"
      }
    },
    {
      "cell_type": "code",
      "source": [
        "x = data.iloc[:,:-1].values\n",
        "y = data.iloc[:,1].values"
      ],
      "metadata": {
        "id": "EhtMpS9dDP2f"
      },
      "execution_count": null,
      "outputs": []
    },
    {
      "cell_type": "code",
      "source": [
        "x"
      ],
      "metadata": {
        "colab": {
          "base_uri": "https://localhost:8080/"
        },
        "id": "PM5-Fo1kEl7B",
        "outputId": "f8a8f435-ed36-442e-d9f9-1544b61c5de0"
      },
      "execution_count": null,
      "outputs": [
        {
          "output_type": "execute_result",
          "data": {
            "text/plain": [
              "array([[ 1.1],\n",
              "       [ 1.3],\n",
              "       [ 1.5],\n",
              "       [ 2. ],\n",
              "       [ 2.2],\n",
              "       [ 2.9],\n",
              "       [ 3. ],\n",
              "       [ 3.2],\n",
              "       [ 3.2],\n",
              "       [ 3.7],\n",
              "       [ 3.9],\n",
              "       [ 4. ],\n",
              "       [ 4. ],\n",
              "       [ 4.1],\n",
              "       [ 4.5],\n",
              "       [ 4.9],\n",
              "       [ 5.1],\n",
              "       [ 5.3],\n",
              "       [ 5.9],\n",
              "       [ 6. ],\n",
              "       [ 6.8],\n",
              "       [ 7.1],\n",
              "       [ 7.9],\n",
              "       [ 8.2],\n",
              "       [ 8.7],\n",
              "       [ 9. ],\n",
              "       [ 9.5],\n",
              "       [ 9.6],\n",
              "       [10.3],\n",
              "       [10.5]])"
            ]
          },
          "metadata": {},
          "execution_count": 43
        }
      ]
    },
    {
      "cell_type": "code",
      "source": [
        "y"
      ],
      "metadata": {
        "colab": {
          "base_uri": "https://localhost:8080/"
        },
        "id": "y4t46FIQEq_l",
        "outputId": "d5b6035f-cc66-4fd8-d8d9-a0af2d65dd1d"
      },
      "execution_count": null,
      "outputs": [
        {
          "output_type": "execute_result",
          "data": {
            "text/plain": [
              "array([ 39343,  46205,  37731,  43525,  39891,  56642,  60150,  54445,\n",
              "        64445,  57189,  63218,  55794,  56957,  57081,  61111,  67938,\n",
              "        66029,  83088,  81363,  93940,  91738,  98273, 101302, 113812,\n",
              "       109431, 105582, 116969, 112635, 122391, 121872])"
            ]
          },
          "metadata": {},
          "execution_count": 44
        }
      ]
    },
    {
      "cell_type": "markdown",
      "source": [
        "Splitting data into train & test data"
      ],
      "metadata": {
        "id": "lqLrjw2UDgQt"
      }
    },
    {
      "cell_type": "code",
      "source": [
        "x_train, x_test , y_train, y_test = train_test_split(x , y, test_size = 0.2 , random_state = 2)"
      ],
      "metadata": {
        "id": "MAAVMxY5DeiE"
      },
      "execution_count": null,
      "outputs": []
    },
    {
      "cell_type": "code",
      "source": [
        "print(x_train.shape, x_test.shape , y_train.shape)"
      ],
      "metadata": {
        "colab": {
          "base_uri": "https://localhost:8080/"
        },
        "id": "qaTDie7UDz2G",
        "outputId": "07885dc3-5ed2-46c9-b9d7-a26ba49763a7"
      },
      "execution_count": null,
      "outputs": [
        {
          "output_type": "stream",
          "name": "stdout",
          "text": [
            "(24, 1) (6, 1) (24,)\n"
          ]
        }
      ]
    },
    {
      "cell_type": "markdown",
      "source": [
        "Model Training"
      ],
      "metadata": {
        "id": "scXY-8lnD61m"
      }
    },
    {
      "cell_type": "code",
      "source": [
        "#Creating instance of Linear Regression\n",
        "reg = Linear_Reg(learning_rate = 0.02, number_of_iterations= 1500)"
      ],
      "metadata": {
        "id": "dCpwLW85D40q"
      },
      "execution_count": null,
      "outputs": []
    },
    {
      "cell_type": "code",
      "source": [
        "reg.fit(x_train, y_train)"
      ],
      "metadata": {
        "id": "VJo9_yEvEux-"
      },
      "execution_count": null,
      "outputs": []
    },
    {
      "cell_type": "code",
      "source": [
        "#Printing model parameters\n",
        "\n",
        "print ('Weight = ',reg.weight[0])\n",
        "print ('Bias = ',reg.bias)"
      ],
      "metadata": {
        "colab": {
          "base_uri": "https://localhost:8080/"
        },
        "id": "rsAD_PsnH4ix",
        "outputId": "b6d676c2-470c-4787-d82f-6afd2bace05c"
      },
      "execution_count": null,
      "outputs": [
        {
          "output_type": "stream",
          "name": "stdout",
          "text": [
            "Weight =  9569.61308424041\n",
            "Bias =  24392.985242661347\n"
          ]
        }
      ]
    },
    {
      "cell_type": "markdown",
      "source": [
        "Predicting outut for train & test data"
      ],
      "metadata": {
        "id": "oK1lWkEfKtly"
      }
    },
    {
      "cell_type": "code",
      "source": [
        "train_prediction = reg.predict(x_train)\n",
        "print(train_prediction)"
      ],
      "metadata": {
        "colab": {
          "base_uri": "https://localhost:8080/"
        },
        "id": "rD4yY4WrJyrR",
        "outputId": "e28441a8-d18a-4d11-e9d6-446f882b5f3e"
      },
      "execution_count": null,
      "outputs": [
        {
          "output_type": "stream",
          "name": "stdout",
          "text": [
            "[102863.81253343  53101.82449538  43532.21141114  89466.3542155\n",
            "  52144.86318696 116261.27085137  62671.43757962  45446.13402799\n",
            "  61714.4762712   73198.01197229 122960.00001034 110519.50300083\n",
            "  75111.93458914  38747.40486902  55015.74711223 115304.30954295\n",
            " 107648.61907555  80853.70243968  62671.43757962  99992.92860816\n",
            " 124873.92262719  63628.39888805  71284.08935544  55015.74711223]\n"
          ]
        }
      ]
    },
    {
      "cell_type": "code",
      "source": [
        "test_prediction = reg.predict(x_test)\n",
        "print(test_prediction)"
      ],
      "metadata": {
        "colab": {
          "base_uri": "https://localhost:8080/"
        },
        "id": "ExCtRrmJKWdQ",
        "outputId": "c246244f-6570-4d06-d644-55e0d935a6d0"
      },
      "execution_count": null,
      "outputs": [
        {
          "output_type": "stream",
          "name": "stdout",
          "text": [
            "[36833.48225217 34919.55963533 67456.24412174 59800.55365435\n",
            " 92337.23814077 81810.6637481 ]\n"
          ]
        }
      ]
    },
    {
      "cell_type": "markdown",
      "source": [
        "Visualizing prediction values vs actual values"
      ],
      "metadata": {
        "id": "JbGGDXVFLMUD"
      }
    },
    {
      "cell_type": "code",
      "source": [
        "plt.scatter(x_train , y_train , color = 'red')\n",
        "plt.plot(x_train , train_prediction, color = 'blue')\n",
        "plt.xlabel('YOE')\n",
        "plt.ylabel('Salary')\n",
        "plt.title('YOE vs Salary')\n",
        "plt.show()"
      ],
      "metadata": {
        "colab": {
          "base_uri": "https://localhost:8080/",
          "height": 295
        },
        "id": "CMWXhTOCK4ZS",
        "outputId": "87091e95-f3d5-4954-f281-6c8fac0b3e74"
      },
      "execution_count": null,
      "outputs": [
        {
          "output_type": "display_data",
          "data": {
            "text/plain": [
              "<Figure size 432x288 with 1 Axes>"
            ],
            "image/png": "[encoded data removed]"
          },
          "metadata": {
            "needs_background": "light"
          }
        }
      ]
    },
    {
      "cell_type": "code",
      "source": [
        "plt.scatter(x_test , y_test , color = 'red')\n",
        "plt.plot(x_test , test_prediction, color = 'blue')\n",
        "plt.xlabel('YOE')\n",
        "plt.ylabel('Salary')\n",
        "plt.title('YOE vs Salary')\n",
        "plt.show()"
      ],
      "metadata": {
        "colab": {
          "base_uri": "https://localhost:8080/",
          "height": 295
        },
        "id": "5kGpXhvmLhqC",
        "outputId": "883dd00b-0f87-4c84-9d54-99e1c9ce2c44"
      },
      "execution_count": null,
      "outputs": [
        {
          "output_type": "display_data",
          "data": {
            "text/plain": [
              "<Figure size 432x288 with 1 Axes>"
            ],
            "image/png": "[encoded data removed]"
          },
          "metadata": {
            "needs_background": "light"
          }
        }
      ]
    },
    {
      "cell_type": "code",
      "source": [],
      "metadata": {
        "id": "V-MBg99ULpAB"
      },
      "execution_count": null,
      "outputs": []
    }
  ]
}