{
  "nbformat": 4,
  "nbformat_minor": 0,
  "metadata": {
    "colab": {
      "provenance": [],
      "collapsed_sections": [],
      "mount_file_id": "1j2N6nwlkNXU_s3VdGjEFMtUVoOt-xkmn",
      "authorship_tag": "ABX9TyN3TRz/614ilSLR7HF9A+YV",
      "include_colab_link": true
    },
    "kernelspec": {
      "name": "python3",
      "display_name": "Python 3"
    },
    "language_info": {
      "name": "python"
    }
  },
  "cells": [
    {
      "cell_type": "markdown",
      "metadata": {
        "id": "view-in-github",
        "colab_type": "text"
      },
      "source": [
        "<a href=\"https://colab.research.google.com/github/arjun1131/Building-ML-models-from-Stratch/blob/main/Lasso_Regression_from_Stratch_using_Python.ipynb\" target=\"_parent\"><img src=\"https://colab.research.google.com/assets/colab-badge.svg\" alt=\"Open In Colab\"/></a>"
      ]
    },
    {
      "cell_type": "markdown",
      "source": [
        "#Lasso Regression\n",
        "\n",
        "Lasso regression is a regularization technique. It is used over regression methods for a more accurate prediction. This model uses shrinkage. Shrinkage is where data values are shrunk towards a central point as the mean. The lasso procedure encourages simple, sparse models (i.e. models with fewer parameters). This particular type of regression is well-suited for models showing high levels of multicollinearity or when you want to automate certain parts of model selection, like variable selection/parameter elimination.It uses L1 regularization to prevent overfitting.\n",
        "\n"
      ],
      "metadata": {
        "id": "67nOF1p8eIn0"
      }
    },
    {
      "cell_type": "code",
      "execution_count": 1,
      "metadata": {
        "id": "Y_R1j_VUd_8S"
      },
      "outputs": [],
      "source": [
        "#Importing Numpy Library\n",
        "import numpy as np"
      ]
    },
    {
      "cell_type": "code",
      "source": [
        "#Creting class for Lasso Regression\n",
        "class lasso():\n",
        "  \n",
        "  #Hyper parameters initialization function\n",
        "  def __init__(self, alpha, iterations , lamda):\n",
        "\n",
        "    self.alpha = alpha\n",
        "    self.iterations = iterations\n",
        "    self.lamda = lamda\n",
        "  \n",
        "  #Fitting data into model function\n",
        "  def fit(self , x , y):\n",
        "\n",
        "    #Finding number of input features - number of columns in data, number of data points - - number of rows in data\n",
        "    self.m , self.n = x.shape\n",
        "    \n",
        "    #Initializing model parameters\n",
        "    self.weights = np.zeros(self.n)\n",
        "    self.bias = 0\n",
        "\n",
        "    #Input features \n",
        "    self.x = x\n",
        "    self.y = y\n",
        "\n",
        "    #Gradient Descent Implementation\n",
        "\n",
        "    for i in range(self.iterations):\n",
        "      self.update_parameters()\n",
        "\n",
        "  #Function for updating model parameters\n",
        "  def update_parameters(self):\n",
        "\n",
        "    #Calculating prediction for initial model parameters\n",
        "    y_pred = self.predict(self.x)\n",
        "\n",
        "    #Creating array for dw gradients\n",
        "    dw = np.zeros(self.n)\n",
        "\n",
        "    #Calculating gradients\n",
        "    for i in range(self.n):\n",
        "      \n",
        "      if self.weights[i] > 0:\n",
        "        dw[i] = (-(2*(self.x[:,i]).dot(self.y - y_pred)) + self.lamda)/self.m\n",
        "      \n",
        "      else:\n",
        "        dw[i] = (-(2*(self.x[:,i]).dot(self.y - y_pred)) - self.lamda)/self.m\n",
        "        \n",
        "    db = -2 * np.sum(self.y - y_pred)/self.m\n",
        "\n",
        "    #Updating model parameters\n",
        "\n",
        "    self.weights = self.weights - (self.alpha * dw)\n",
        "    self.bias = self.bias - (self.alpha * db)\n",
        "\n",
        "\n",
        "  #Function for predict target value\n",
        "  def predict(self , x):\n",
        "\n",
        "    return x.dot(self.weights) + self.bias"
      ],
      "metadata": {
        "id": "NIoIm3IVhqNq"
      },
      "execution_count": 15,
      "outputs": []
    },
    {
      "cell_type": "markdown",
      "source": [
        "#Implementation of Lasso Regression"
      ],
      "metadata": {
        "id": "NTQ85g7uw2Xn"
      }
    },
    {
      "cell_type": "code",
      "source": [
        "#Importing libraries\n",
        "\n",
        "import pandas as pd\n",
        "from sklearn.model_selection import train_test_split\n",
        "from sklearn.metrics import r2_score\n",
        "from sklearn.metrics import mean_absolute_error"
      ],
      "metadata": {
        "id": "puZnzacgwqXJ"
      },
      "execution_count": 4,
      "outputs": []
    },
    {
      "cell_type": "code",
      "source": [
        "#Loading data into Pandas Data frame\n",
        "data = pd.read_csv('/content/drive/MyDrive/ML Datasets/salary_data.csv')"
      ],
      "metadata": {
        "id": "gdJ1WbBqxZfg"
      },
      "execution_count": 5,
      "outputs": []
    },
    {
      "cell_type": "code",
      "source": [
        "data.head()"
      ],
      "metadata": {
        "colab": {
          "base_uri": "https://localhost:8080/",
          "height": 206
        },
        "id": "0mBJSM1Zx2sH",
        "outputId": "6fbcc003-8aa2-4ec7-9262-13b69a893d34"
      },
      "execution_count": 6,
      "outputs": [
        {
          "output_type": "execute_result",
          "data": {
            "text/plain": [
              "   YearsExperience  Salary\n",
              "0              1.1   39343\n",
              "1              1.3   46205\n",
              "2              1.5   37731\n",
              "3              2.0   43525\n",
              "4              2.2   39891"
            ],
            "text/html": [
              "\n",
              "  <div id=\"df-0986173f-93bb-4dff-a692-e57cc4f2ad08\">\n",
              "    <div class=\"colab-df-container\">\n",
              "      <div>\n",
              "<style scoped>\n",
              "    .dataframe tbody tr th:only-of-type {\n",
              "        vertical-align: middle;\n",
              "    }\n",
              "\n",
              "    .dataframe tbody tr th {\n",
              "        vertical-align: top;\n",
              "    }\n",
              "\n",
              "    .dataframe thead th {\n",
              "        text-align: right;\n",
              "    }\n",
              "</style>\n",
              "<table border=\"1\" class=\"dataframe\">\n",
              "  <thead>\n",
              "    <tr style=\"text-align: right;\">\n",
              "      <th></th>\n",
              "      <th>YearsExperience</th>\n",
              "      <th>Salary</th>\n",
              "    </tr>\n",
              "  </thead>\n",
              "  <tbody>\n",
              "    <tr>\n",
              "      <th>0</th>\n",
              "      <td>1.1</td>\n",
              "      <td>39343</td>\n",
              "    </tr>\n",
              "    <tr>\n",
              "      <th>1</th>\n",
              "      <td>1.3</td>\n",
              "      <td>46205</td>\n",
              "    </tr>\n",
              "    <tr>\n",
              "      <th>2</th>\n",
              "      <td>1.5</td>\n",
              "      <td>37731</td>\n",
              "    </tr>\n",
              "    <tr>\n",
              "      <th>3</th>\n",
              "      <td>2.0</td>\n",
              "      <td>43525</td>\n",
              "    </tr>\n",
              "    <tr>\n",
              "      <th>4</th>\n",
              "      <td>2.2</td>\n",
              "      <td>39891</td>\n",
              "    </tr>\n",
              "  </tbody>\n",
              "</table>\n",
              "</div>\n",
              "      <button class=\"colab-df-convert\" onclick=\"convertToInteractive('df-0986173f-93bb-4dff-a692-e57cc4f2ad08')\"\n",
              "              title=\"Convert this dataframe to an interactive table.\"\n",
              "              style=\"display:none;\">\n",
              "        \n",
              "  <svg xmlns=\"http://www.w3.org/2000/svg\" height=\"24px\"viewBox=\"0 0 24 24\"\n",
              "       width=\"24px\">\n",
              "    <path d=\"M0 0h24v24H0V0z\" fill=\"none\"/>\n",
              "    <path d=\"M18.56 5.44l.94 2.06.94-2.06 2.06-.94-2.06-.94-.94-2.06-.94 2.06-2.06.94zm-11 1L8.5 8.5l.94-2.06 2.06-.94-2.06-.94L8.5 2.5l-.94 2.06-2.06.94zm10 10l.94 2.06.94-2.06 2.06-.94-2.06-.94-.94-2.06-.94 2.06-2.06.94z\"/><path d=\"M17.41 7.96l-1.37-1.37c-.4-.4-.92-.59-1.43-.59-.52 0-1.04.2-1.43.59L10.3 9.45l-7.72 7.72c-.78.78-.78 2.05 0 2.83L4 21.41c.39.39.9.59 1.41.59.51 0 1.02-.2 1.41-.59l7.78-7.78 2.81-2.81c.8-.78.8-2.07 0-2.86zM5.41 20L4 18.59l7.72-7.72 1.47 1.35L5.41 20z\"/>\n",
              "  </svg>\n",
              "      </button>\n",
              "      \n",
              "  <style>\n",
              "    .colab-df-container {\n",
              "      display:flex;\n",
              "      flex-wrap:wrap;\n",
              "      gap: 12px;\n",
              "    }\n",
              "\n",
              "    .colab-df-convert {\n",
              "      background-color: #E8F0FE;\n",
              "      border: none;\n",
              "      border-radius: 50%;\n",
              "      cursor: pointer;\n",
              "      display: none;\n",
              "      fill: #1967D2;\n",
              "      height: 32px;\n",
              "      padding: 0 0 0 0;\n",
              "      width: 32px;\n",
              "    }\n",
              "\n",
              "    .colab-df-convert:hover {\n",
              "      background-color: #E2EBFA;\n",
              "      box-shadow: 0px 1px 2px rgba(60, 64, 67, 0.3), 0px 1px 3px 1px rgba(60, 64, 67, 0.15);\n",
              "      fill: #174EA6;\n",
              "    }\n",
              "\n",
              "    [theme=dark] .colab-df-convert {\n",
              "      background-color: #3B4455;\n",
              "      fill: #D2E3FC;\n",
              "    }\n",
              "\n",
              "    [theme=dark] .colab-df-convert:hover {\n",
              "      background-color: #434B5C;\n",
              "      box-shadow: 0px 1px 3px 1px rgba(0, 0, 0, 0.15);\n",
              "      filter: drop-shadow(0px 1px 2px rgba(0, 0, 0, 0.3));\n",
              "      fill: #FFFFFF;\n",
              "    }\n",
              "  </style>\n",
              "\n",
              "      <script>\n",
              "        const buttonEl =\n",
              "          document.querySelector('#df-0986173f-93bb-4dff-a692-e57cc4f2ad08 button.colab-df-convert');\n",
              "        buttonEl.style.display =\n",
              "          google.colab.kernel.accessAllowed ? 'block' : 'none';\n",
              "\n",
              "        async function convertToInteractive(key) {\n",
              "          const element = document.querySelector('#df-0986173f-93bb-4dff-a692-e57cc4f2ad08');\n",
              "          const dataTable =\n",
              "            await google.colab.kernel.invokeFunction('convertToInteractive',\n",
              "                                                     [key], {});\n",
              "          if (!dataTable) return;\n",
              "\n",
              "          const docLinkHtml = 'Like what you see? Visit the ' +\n",
              "            '<a target=\"_blank\" href=https://colab.research.google.com/notebooks/data_table.ipynb>data table notebook</a>'\n",
              "            + ' to learn more about interactive tables.';\n",
              "          element.innerHTML = '';\n",
              "          dataTable['output_type'] = 'display_data';\n",
              "          await google.colab.output.renderOutput(dataTable, element);\n",
              "          const docLink = document.createElement('div');\n",
              "          docLink.innerHTML = docLinkHtml;\n",
              "          element.appendChild(docLink);\n",
              "        }\n",
              "      </script>\n",
              "    </div>\n",
              "  </div>\n",
              "  "
            ]
          },
          "metadata": {},
          "execution_count": 6
        }
      ]
    },
    {
      "cell_type": "markdown",
      "source": [
        "#Splitting features & target"
      ],
      "metadata": {
        "id": "OrF4Jbs-yBIc"
      }
    },
    {
      "cell_type": "code",
      "source": [
        "x = data.iloc[:,:-1].values\n",
        "y = data.iloc[:,1].values"
      ],
      "metadata": {
        "id": "-eiCofwbx4NE"
      },
      "execution_count": 7,
      "outputs": []
    },
    {
      "cell_type": "code",
      "source": [
        "x"
      ],
      "metadata": {
        "colab": {
          "base_uri": "https://localhost:8080/"
        },
        "id": "oYmvs87kyVfo",
        "outputId": "67d6e71c-5821-48ab-ba41-58c0fe4c5749"
      },
      "execution_count": 8,
      "outputs": [
        {
          "output_type": "execute_result",
          "data": {
            "text/plain": [
              "array([[ 1.1],\n",
              "       [ 1.3],\n",
              "       [ 1.5],\n",
              "       [ 2. ],\n",
              "       [ 2.2],\n",
              "       [ 2.9],\n",
              "       [ 3. ],\n",
              "       [ 3.2],\n",
              "       [ 3.2],\n",
              "       [ 3.7],\n",
              "       [ 3.9],\n",
              "       [ 4. ],\n",
              "       [ 4. ],\n",
              "       [ 4.1],\n",
              "       [ 4.5],\n",
              "       [ 4.9],\n",
              "       [ 5.1],\n",
              "       [ 5.3],\n",
              "       [ 5.9],\n",
              "       [ 6. ],\n",
              "       [ 6.8],\n",
              "       [ 7.1],\n",
              "       [ 7.9],\n",
              "       [ 8.2],\n",
              "       [ 8.7],\n",
              "       [ 9. ],\n",
              "       [ 9.5],\n",
              "       [ 9.6],\n",
              "       [10.3],\n",
              "       [10.5]])"
            ]
          },
          "metadata": {},
          "execution_count": 8
        }
      ]
    },
    {
      "cell_type": "code",
      "source": [
        "y"
      ],
      "metadata": {
        "colab": {
          "base_uri": "https://localhost:8080/"
        },
        "id": "sYUk9nscyXIX",
        "outputId": "f776ce5f-0bab-4576-b49b-abc2e45fb54e"
      },
      "execution_count": 9,
      "outputs": [
        {
          "output_type": "execute_result",
          "data": {
            "text/plain": [
              "array([ 39343,  46205,  37731,  43525,  39891,  56642,  60150,  54445,\n",
              "        64445,  57189,  63218,  55794,  56957,  57081,  61111,  67938,\n",
              "        66029,  83088,  81363,  93940,  91738,  98273, 101302, 113812,\n",
              "       109431, 105582, 116969, 112635, 122391, 121872])"
            ]
          },
          "metadata": {},
          "execution_count": 9
        }
      ]
    },
    {
      "cell_type": "markdown",
      "source": [
        "#Splitting training & testing data"
      ],
      "metadata": {
        "id": "LFXePnuWyZoJ"
      }
    },
    {
      "cell_type": "code",
      "source": [
        "x_train , x_test , y_train , y_test = train_test_split(x , y , test_size = 0.15 , random_state = 2)"
      ],
      "metadata": {
        "id": "NtjHyG0YyX2L"
      },
      "execution_count": 11,
      "outputs": []
    },
    {
      "cell_type": "code",
      "source": [
        "print (x_train.shape , x_test.shape)"
      ],
      "metadata": {
        "colab": {
          "base_uri": "https://localhost:8080/"
        },
        "id": "JsVFt0Uhyrvq",
        "outputId": "923f026e-2e7c-454c-f8fd-2e299a850db6"
      },
      "execution_count": 12,
      "outputs": [
        {
          "output_type": "stream",
          "name": "stdout",
          "text": [
            "(25, 1) (5, 1)\n"
          ]
        }
      ]
    },
    {
      "cell_type": "markdown",
      "source": [
        "#Model Training"
      ],
      "metadata": {
        "id": "JzSmCfKqy09e"
      }
    },
    {
      "cell_type": "code",
      "source": [
        "#Creating instance of user defined class lasso\n",
        "\n",
        "reg = lasso(alpha = 0.01 , iterations = 1000 , lamda = 0.002)"
      ],
      "metadata": {
        "id": "Dw0MjkBHyyJF"
      },
      "execution_count": 16,
      "outputs": []
    },
    {
      "cell_type": "code",
      "source": [
        "#Fitting data into model\n",
        "reg.fit(x_train , y_train)"
      ],
      "metadata": {
        "id": "63GgOy14zG3a"
      },
      "execution_count": 17,
      "outputs": []
    },
    {
      "cell_type": "code",
      "source": [
        "#Printing model parameters\n",
        "\n",
        "print ('Weight = ',reg.weights[0])\n",
        "print ('Bias = ',reg.bias)"
      ],
      "metadata": {
        "colab": {
          "base_uri": "https://localhost:8080/"
        },
        "id": "rrcfXcmszj-d",
        "outputId": "383134b2-f828-43e1-9764-71aa5f39bcf6"
      },
      "execution_count": 19,
      "outputs": [
        {
          "output_type": "stream",
          "name": "stdout",
          "text": [
            "Weight =  9667.389232815258\n",
            "Bias =  24223.747285798127\n"
          ]
        }
      ]
    },
    {
      "cell_type": "markdown",
      "source": [
        "#Model Evaluation"
      ],
      "metadata": {
        "id": "RtfO-h_bzZdV"
      }
    },
    {
      "cell_type": "code",
      "source": [
        "#Prediction on Training data\n",
        "train_prediction = reg.predict(x_train)\n",
        "print(train_prediction)"
      ],
      "metadata": {
        "colab": {
          "base_uri": "https://localhost:8080/"
        },
        "id": "wizEe3ywzNUC",
        "outputId": "5aa40d9f-970c-4b4d-e25d-81436393ddc1"
      },
      "execution_count": 20,
      "outputs": [
        {
          "output_type": "stream",
          "name": "stdout",
          "text": [
            "[ 82228.08268269 103496.33899488  53225.91498424  43558.52575143\n",
            "  89961.99406894  52259.17606096 117030.68392082  62893.30421706\n",
            "  45492.00359799  61926.56529378  73527.43237316 123797.8563838\n",
            " 111230.25038114  75460.91021972  38724.83113502  55159.39283081\n",
            " 116063.94499754 108330.03361129  81261.34375941  62893.30421706\n",
            " 100596.12222504 125731.33423036  63860.04314034  71593.95452659\n",
            "  55159.39283081]\n"
          ]
        }
      ]
    },
    {
      "cell_type": "code",
      "source": [
        "#Finding r2 score , mean absolute error\n",
        "train_r2_score = r2_score(y_train , train_prediction)\n",
        "train_error = mean_absolute_error(y_train , train_prediction)\n",
        "print ('R2 score of training data : ', train_r2_score)\n",
        "print ('Error on training data : ', train_error)"
      ],
      "metadata": {
        "colab": {
          "base_uri": "https://localhost:8080/"
        },
        "id": "AaA5646s0KFm",
        "outputId": "aab5dca0-a3ef-46d5-f5b3-ee45259870e8"
      },
      "execution_count": 24,
      "outputs": [
        {
          "output_type": "stream",
          "name": "stdout",
          "text": [
            "R2 score of training data :  0.9580985501619433\n",
            "Error on training data :  4390.003879050575\n"
          ]
        }
      ]
    },
    {
      "cell_type": "code",
      "source": [
        "#Prediction on Test data\n",
        "test_prediction = reg.predict(x_test)\n",
        "print(test_prediction)"
      ],
      "metadata": {
        "colab": {
          "base_uri": "https://localhost:8080/"
        },
        "id": "RsEeabvXzrY9",
        "outputId": "de8c4569-b828-4d39-8a7b-381a1493c664"
      },
      "execution_count": 21,
      "outputs": [
        {
          "output_type": "stream",
          "name": "stdout",
          "text": [
            "[36791.35328846 34857.87544189 67726.99883347 59993.08744721\n",
            " 92862.21083879]\n"
          ]
        }
      ]
    },
    {
      "cell_type": "code",
      "source": [
        "#Finding r2 score , mean absolute error\n",
        "test_r2_score = r2_score(y_test , test_prediction)\n",
        "test_error = mean_absolute_error(y_test , test_prediction)\n",
        "print ('R2 score of testing data : ', test_r2_score)\n",
        "print ('Error on testing data : ', test_error)"
      ],
      "metadata": {
        "colab": {
          "base_uri": "https://localhost:8080/"
        },
        "id": "IXMrn9t_0Iuj",
        "outputId": "bb00adf6-afb5-44f1-c7a0-0553c565a955"
      },
      "execution_count": 25,
      "outputs": [
        {
          "output_type": "stream",
          "name": "stdout",
          "text": [
            "R2 score of testing data :  0.909264357331982\n",
            "Error on testing data :  5745.929342308411\n"
          ]
        }
      ]
    },
    {
      "cell_type": "markdown",
      "source": [
        "#Visualizing prediction on training & testing data"
      ],
      "metadata": {
        "id": "jrIAveyS1BCY"
      }
    },
    {
      "cell_type": "code",
      "source": [
        "import matplotlib.pyplot as plt\n",
        "plt.scatter(x_train , y_train , color = 'red')\n",
        "plt.plot(x_train , train_prediction, color = 'blue')\n",
        "plt.xlabel('YOE')\n",
        "plt.ylabel('Salary')\n",
        "plt.title('YOE vs Salary')\n",
        "plt.show()"
      ],
      "metadata": {
        "colab": {
          "base_uri": "https://localhost:8080/",
          "height": 295
        },
        "id": "BW1TywT6zwHF",
        "outputId": "d09f4150-5ceb-42f3-d081-6310732b006c"
      },
      "execution_count": 26,
      "outputs": [
        {
          "output_type": "display_data",
          "data": {
            "text/plain": [
              "<Figure size 432x288 with 1 Axes>"
            ],
            "image/png": "[encoded data removed]"
          },
          "metadata": {
            "needs_background": "light"
          }
        }
      ]
    },
    {
      "cell_type": "code",
      "source": [
        "plt.scatter(x_test , y_test , color = 'red')\n",
        "plt.plot(x_test , test_prediction, color = 'blue')\n",
        "plt.xlabel('YOE')\n",
        "plt.ylabel('Salary')\n",
        "plt.title('YOE vs Salary')\n",
        "plt.show()"
      ],
      "metadata": {
        "colab": {
          "base_uri": "https://localhost:8080/",
          "height": 295
        },
        "id": "i1Wo5VRSz7wF",
        "outputId": "4d5f7478-e50c-47a8-cc04-0b9eecf6e179"
      },
      "execution_count": 27,
      "outputs": [
        {
          "output_type": "display_data",
          "data": {
            "text/plain": [
              "<Figure size 432x288 with 1 Axes>"
            ],
            "image/png": "[encoded data removed]"
          },
          "metadata": {
            "needs_background": "light"
          }
        }
      ]
    },
    {
      "cell_type": "code",
      "source": [],
      "metadata": {
        "id": "eIjxZUb_0GuU"
      },
      "execution_count": null,
      "outputs": []
    }
  ]
}